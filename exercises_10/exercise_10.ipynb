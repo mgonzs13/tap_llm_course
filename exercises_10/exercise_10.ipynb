{
 "cells": [
  {
   "cell_type": "markdown",
   "metadata": {},
   "source": [
    "# Exercise: Setting Up and Running a Full Chatbot in ROS 2\n",
    "\n",
    "This notebook demonstrates how to install dependencies, download a models from Hugging Face,\n",
    "and load it in ROS 2 to deploy a full chatbot. Follow the steps below to understand how to:\n",
    "- Install necessary dependencies.\n",
    "- Download and load a SileroVAD, Whisper, LLMs, and Piper models file from Hugging Face.\n",
    "- Deploy a full chatbot ROS 2.\n",
    "\n",
    "Make sure you have the required dependencies installed before running the notebook, which includes ROS 2."
   ]
  },
  {
   "cell_type": "code",
   "execution_count": null,
   "metadata": {
    "vscode": {
     "languageId": "shellscript"
    }
   },
   "outputs": [],
   "source": [
    "# Download and compile whisper_ros\n",
    "!git clone https://github.com/mgonzs13/chatbot_ros\n",
    "!vcs import < chatbot_ros/dependencies.repos\n",
    "!cd ~/ros2_ws\n",
    "!rosdep install --from-paths src --ignore-src -r -y\n",
    "!pip3 install -r src/llama_ros/requirements.txt\n",
    "!pip3 install -r src/whisper_ros/requirements.txt\n",
    "!pip3 install -r src/piper_ros/requirements.txt\n",
    "!colcon build --cmake-args -DGGML_CUDA=ON"
   ]
  },
  {
   "cell_type": "code",
   "execution_count": null,
   "metadata": {
    "vscode": {
     "languageId": "shellscript"
    }
   },
   "outputs": [],
   "source": [
    "# Download and deploy the chatbot for ROS 2\n",
    "!ros2 launch chatbot_bringup chatbot.launch.py"
   ]
  }
 ],
 "metadata": {
  "kernelspec": {
   "display_name": "Python 3",
   "language": "python",
   "name": "python3"
  },
  "language_info": {
   "codemirror_mode": {
    "name": "ipython",
    "version": 3
   },
   "file_extension": ".py",
   "mimetype": "text/x-python",
   "name": "python",
   "nbconvert_exporter": "python",
   "pygments_lexer": "ipython3",
   "version": "3.10.12"
  }
 },
 "nbformat": 4,
 "nbformat_minor": 2
}
