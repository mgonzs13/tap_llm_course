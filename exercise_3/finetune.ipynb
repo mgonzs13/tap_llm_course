{
  "cells": [
    {
      "cell_type": "code",
      "execution_count": null,
      "metadata": {
        "id": "JzcqjpjFVN2h"
      },
      "outputs": [],
      "source": [
        "!pip3 install datasets==2.13.1 transformers==4.39.1 peft==0.10.0 bitsandbytes==0.43.0 accelerate==0.28.0 flash-attn==2.5.6"
      ]
    },
    {
      "cell_type": "code",
      "execution_count": null,
      "metadata": {
        "id": "5KphwOe1VMqC"
      },
      "outputs": [],
      "source": [
        "import os\n",
        "import torch\n",
        "from functools import partial\n",
        "from datasets import load_dataset\n",
        "\n",
        "from transformers import Trainer\n",
        "from transformers import TrainingArguments\n",
        "from transformers import AutoTokenizer\n",
        "from transformers import BitsAndBytesConfig\n",
        "from transformers import AutoModelForCausalLM\n",
        "\n",
        "from peft import LoraConfig, get_peft_model, prepare_model_for_kbit_training\n",
        "\n",
        "os.environ[\"WANDB_DISABLED\"] = \"true\""
      ]
    },
    {
      "cell_type": "code",
      "execution_count": null,
      "metadata": {
        "id": "d6D6PT3-VMqF"
      },
      "outputs": [],
      "source": [
        "# Quantization configuration\n",
        "bnb_config = BitsAndBytesConfig(\n",
        "    load_in_4bit=True,\n",
        "    bnb_4bit_quant_type=\"nf4\",\n",
        "    bnb_4bit_compute_dtype=torch.float16,\n",
        "    bnb_4bit_use_double_quant=False,\n",
        ")"
      ]
    },
    {
      "cell_type": "code",
      "execution_count": null,
      "metadata": {
        "id": "skKWinj7VMqF"
      },
      "outputs": [],
      "source": [
        "# create the model\n",
        "base_model = \"microsoft/phi-2\"\n",
        "\n",
        "model = AutoModelForCausalLM.from_pretrained(\n",
        "    base_model,\n",
        "    attn_implementation=\"flash_attention_2\",\n",
        "    quantization_config=bnb_config,\n",
        "    low_cpu_mem_usage=True,\n",
        "    trust_remote_code=True,\n",
        "    device_map={\"\": 0}\n",
        ")"
      ]
    },
    {
      "cell_type": "code",
      "execution_count": null,
      "metadata": {
        "id": "v-RN01JuVMqG"
      },
      "outputs": [],
      "source": [
        "# get the tokenizer\n",
        "tokenizer = AutoTokenizer.from_pretrained(base_model, use_fast=False)\n",
        "tokenizer.add_tokens([\"<|im_start|>\", \"<PAD>\"])\n",
        "tokenizer.pad_token = \"<PAD>\"\n",
        "tokenizer.add_special_tokens(dict(eos_token=\"<|im_end|>\"))\n",
        "model.config.eos_token_id = tokenizer.eos_token_id"
      ]
    },
    {
      "cell_type": "code",
      "execution_count": null,
      "metadata": {
        "id": "KUb1jdARVMqG"
      },
      "outputs": [],
      "source": [
        "# load the dataset\n",
        "templates = [\n",
        "    \"<|im_start|>assistant\\n{msg}<|im_end|>\",\n",
        "    \"<|im_start|>user\\n{msg}<|im_end|>\"\n",
        "]\n",
        "IGNORE_INDEX = -100\n",
        "\n",
        "\n",
        "def tokenize(input, max_length, tokenizer):\n",
        "    input_ids, attention_mask, labels = [], [], []\n",
        "\n",
        "    for i, msg in enumerate([input[\"command\"], input[\"cfr\"]]):\n",
        "        isHuman = i % 2 == 0\n",
        "\n",
        "        msg_chatml = templates[isHuman].format(msg=msg)\n",
        "        msg_tokenized = tokenizer(\n",
        "            msg_chatml, truncation=False, add_special_tokens=False)\n",
        "\n",
        "        input_ids += msg_tokenized[\"input_ids\"]\n",
        "        attention_mask += msg_tokenized[\"attention_mask\"]\n",
        "        labels += [IGNORE_INDEX] * len(msg_tokenized[\"input_ids\"]\n",
        "                                       ) if isHuman else msg_tokenized[\"input_ids\"]\n",
        "\n",
        "    return {\n",
        "        \"input_ids\": input_ids[:max_length], # tokens of the text\n",
        "        \"attention_mask\": attention_mask[:max_length], # binary tensor that indicates which tokens should be attended\n",
        "        \"labels\": labels[:max_length], # ground truth tokens\n",
        "    }\n",
        "\n",
        "\n",
        "def prepare_dataset(tokenizer):\n",
        "\n",
        "    dataset = load_dataset(\"dataset\", split=\"train\")\n",
        "\n",
        "    return dataset.map(\n",
        "        partial(tokenize, max_length=1024, tokenizer=tokenizer),\n",
        "        batched=False,\n",
        "        num_proc=os.cpu_count(),\n",
        "        remove_columns=dataset.column_names\n",
        "    )\n",
        "\n",
        "\n",
        "# collate to prepare a batch of data for input to a LLM for training\n",
        "def collate(elements, tokenizer):\n",
        "    tokens = [e[\"input_ids\"] for e in elements]\n",
        "    tokens_maxlen = max([len(t) for t in tokens])\n",
        "\n",
        "    for i, sample in enumerate(elements):\n",
        "        input_ids = sample[\"input_ids\"]\n",
        "        attention_mask = sample[\"attention_mask\"]\n",
        "        labels = sample[\"labels\"]\n",
        "\n",
        "        pad_len = tokens_maxlen - len(input_ids)\n",
        "\n",
        "        input_ids.extend(pad_len * [tokenizer.pad_token_id])\n",
        "        attention_mask.extend(pad_len * [0])\n",
        "        labels.extend(pad_len * [IGNORE_INDEX])\n",
        "\n",
        "    batch = {\n",
        "        \"input_ids\": torch.tensor([e[\"input_ids\"] for e in elements]),\n",
        "        \"labels\": torch.tensor([e[\"labels\"] for e in elements]),\n",
        "        \"attention_mask\": torch.tensor([e[\"attention_mask\"] for e in elements]),\n",
        "    }\n",
        "\n",
        "    return batch\n",
        "\n",
        "dataset = prepare_dataset(tokenizer)"
      ]
    },
    {
      "cell_type": "code",
      "execution_count": null,
      "metadata": {
        "id": "CEiUi2-1VMqG"
      },
      "outputs": [],
      "source": [
        "# LoRA configuration\n",
        "lora_config = LoraConfig(\n",
        "\n",
        "    # Lora attention dimension\n",
        "    r=32,\n",
        "\n",
        "    # Scaling factor that changes how the adaptation layer's weights affect the base model's.\n",
        "    # Higher alpha means the LoRA layers act more strongly on the base model\n",
        "    lora_alpha=32,\n",
        "\n",
        "    # List of module names or regex expression of the module names to replace with LoRA\n",
        "    target_modules=[\"Wqkv\", \"out_proj\", \"fc1\", \"fc2\"],\n",
        "\n",
        "    # List of modules apart from LoRA layers to be set as trainable and saved in the final checkpoint\n",
        "    modules_to_save=[\"lm_head\", \"embed_tokens\"],\n",
        "\n",
        "    lora_dropout=0.05,\n",
        "    task_type=\"CAUSAL_LM\",\n",
        ")"
      ]
    },
    {
      "cell_type": "code",
      "execution_count": null,
      "metadata": {
        "id": "GFPxKDA_VMqH"
      },
      "outputs": [],
      "source": [
        "model = prepare_model_for_kbit_training(\n",
        "    model, use_gradient_checkpointing=True)\n",
        "model.config.use_cache = False\n",
        "model = get_peft_model(model, lora_config)"
      ]
    },
    {
      "cell_type": "code",
      "execution_count": null,
      "metadata": {
        "id": "J1p8PWFxVMqH"
      },
      "outputs": [],
      "source": [
        "# Set training arguments\n",
        "training_arguments = TrainingArguments(\n",
        "    output_dir=\"./results\",\n",
        "    num_train_epochs=3,\n",
        "    max_steps=-1,\n",
        "    fp16=False,\n",
        "    bf16=False,\n",
        "    per_device_train_batch_size=4,\n",
        "    per_device_eval_batch_size=4,\n",
        "    gradient_accumulation_steps=1,\n",
        "    gradient_checkpointing=True,\n",
        "    learning_rate=2e-4,\n",
        "    max_grad_norm=0.3,\n",
        "    warmup_ratio=0.03,\n",
        "    weight_decay=0.001,\n",
        "    optim=\"paged_adamw_32bit\",\n",
        "    lr_scheduler_type=\"cosine\",\n",
        "    group_by_length=True,\n",
        "    save_steps=0,\n",
        "    logging_steps=20,\n",
        ")\n",
        "\n",
        "# Set supervised fine-tuning parameters\n",
        "trainer = Trainer(\n",
        "    model=model,\n",
        "    tokenizer=tokenizer,\n",
        "    args=training_arguments,\n",
        "    data_collator=partial(collate, tokenizer=tokenizer),\n",
        "    train_dataset=dataset,\n",
        ")"
      ]
    },
    {
      "cell_type": "code",
      "execution_count": null,
      "metadata": {
        "id": "2hT9fXGOVMqI"
      },
      "outputs": [],
      "source": [
        "# Train model\n",
        "trainer.train()\n",
        "\n",
        "# Save trained model\n",
        "new_model = \"phi-2-cfr-lora\"\n",
        "trainer.model.save_pretrained(new_model)\n",
        "\n",
        "# Save full model\n",
        "model.save_pretrained(new_model)\n",
        "tokenizer.save_pretrained(new_model)"
      ]
    }
  ],
  "metadata": {
    "accelerator": "GPU",
    "colab": {
      "gpuType": "T4",
      "provenance": []
    },
    "kernelspec": {
      "display_name": "Python 3",
      "name": "python3"
    },
    "language_info": {
      "codemirror_mode": {
        "name": "ipython",
        "version": 3
      },
      "file_extension": ".py",
      "mimetype": "text/x-python",
      "name": "python",
      "nbconvert_exporter": "python",
      "pygments_lexer": "ipython3",
      "version": "3.10.12"
    }
  },
  "nbformat": 4,
  "nbformat_minor": 0
}
