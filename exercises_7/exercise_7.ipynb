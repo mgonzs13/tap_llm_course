{
 "cells": [
  {
   "cell_type": "markdown",
   "metadata": {
    "id": "vxWV21f24Ced"
   },
   "source": [
    "# Exercise: Create Your Own Web Chatbot\n",
    "\n",
    "This notebook demonstrates how to build a simple web Chatbot using `gradio` and `llama-cpp-python`.\n",
    "It follows these steps:\n",
    "\n",
    "1. **Install Dependencies**: Ensures all required packages are installed.\n",
    "2. **Load Models**: Downloads an LLM model from Hugging Face.\n",
    "3. **Create a Chatbot UI**: Use Gradio to define a Chatbot interface.\n",
    "4. **Deploy the Chatbot**: Deploy the resulting web Chatbot and test it.\n",
    "\n",
    "Run the final cell to see how the system responds to a test query."
   ]
  },
  {
   "cell_type": "code",
   "execution_count": null,
   "metadata": {
    "id": "Xjtm5qozvVDx"
   },
   "outputs": [],
   "source": [
    "# Check GPU availability\n",
    "!nvidia-smi"
   ]
  },
  {
   "cell_type": "code",
   "execution_count": null,
   "metadata": {
    "id": "2UcTgkNEahwC"
   },
   "outputs": [],
   "source": [
    "# Install required dependencies\n",
    "!pip3 install gradio==5.16.0\n",
    "!pip3 install huggingface_hub==0.28.1\n",
    "!pip3 install llama-cpp-python==0.3.4 --extra-index-url https://abetlen.github.io/llama-cpp-python/whl/cu124\n",
    "!pip3 install langchain==0.3.17 langchain-core==0.3.33 langchain-community==0.3.14"
   ]
  },
  {
   "cell_type": "code",
   "execution_count": null,
   "metadata": {
    "id": "XOrRc1SBavJg"
   },
   "outputs": [],
   "source": [
    "# Import necessary libraries\n",
    "import gradio as gr\n",
    "from huggingface_hub import hf_hub_download\n",
    "from langchain_community.chat_models import ChatLlamaCpp"
   ]
  },
  {
   "cell_type": "code",
   "execution_count": null,
   "metadata": {
    "id": "Z2VwSY6PazoH"
   },
   "outputs": [],
   "source": [
    "# Download the LLM, you can search in Hugging Face\n",
    "model_path = hf_hub_download(\n",
    "    repo_id=\"Qwen/Qwen2.5-Coder-0.5B-Instruct-GGUF\",\n",
    "    filename=\"qwen2.5-coder-0.5b-instruct-q4_k_m.gguf\",\n",
    "    force_download=False,\n",
    ")"
   ]
  },
  {
   "cell_type": "code",
   "execution_count": null,
   "metadata": {
    "id": "Lw-Bwwj6bYtG"
   },
   "outputs": [],
   "source": [
    "# Create the LLM\n",
    "llm = ChatLlamaCpp(\n",
    "    model_path=model_path,\n",
    "    n_gpu_layers=25,\n",
    "    stop=[\"<|im_end|>\\n\"],\n",
    "    n_ctx=4096,\n",
    "    max_tokens=4096,\n",
    "    streaming=True,\n",
    "    n_batch=256,\n",
    ")"
   ]
  },
  {
   "cell_type": "code",
   "execution_count": null,
   "metadata": {
    "id": "bMSposKxv5Ve"
   },
   "outputs": [],
   "source": [
    "# Create the llama handler\n",
    "def llama_cpp(message, history):\n",
    "\n",
    "    messages = history + [\n",
    "        {\n",
    "            \"role\": \"user\",\n",
    "            \"metadata\": None,\n",
    "            \"content\": message,\n",
    "            \"options\": None,\n",
    "        }\n",
    "    ]\n",
    "    response = \"\"\n",
    "\n",
    "    for c in llm.stream(messages):\n",
    "        response += c.content\n",
    "        yield response"
   ]
  },
  {
   "cell_type": "code",
   "execution_count": null,
   "metadata": {
    "id": "js9DUOe-tR29"
   },
   "outputs": [],
   "source": [
    "# Create and launch the web chatbot\n",
    "demo = gr.ChatInterface(\n",
    "    llama_cpp,\n",
    "    type=\"messages\",\n",
    "    flagging_mode=\"manual\",\n",
    "    flagging_options=[],\n",
    "    save_history=True,\n",
    ")\n",
    "\n",
    "if __name__ == \"__main__\":\n",
    "    demo.launch()\n"
   ]
  }
 ],
 "metadata": {
  "accelerator": "GPU",
  "colab": {
   "gpuType": "T4",
   "provenance": []
  },
  "kernelspec": {
   "display_name": "Python 3",
   "language": "python",
   "name": "python3"
  },
  "language_info": {
   "codemirror_mode": {
    "name": "ipython",
    "version": 3
   },
   "file_extension": ".py",
   "mimetype": "text/x-python",
   "name": "python",
   "nbconvert_exporter": "python",
   "pygments_lexer": "ipython3",
   "version": "3.10.12"
  }
 },
 "nbformat": 4,
 "nbformat_minor": 0
}
