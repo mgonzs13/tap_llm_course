{
 "cells": [
  {
   "cell_type": "code",
   "execution_count": null,
   "metadata": {},
   "outputs": [],
   "source": [
    "!pip3 install llama-cpp-python==0.2.82 huggingface_hub==0.23.4 langchain==0.1.16"
   ]
  },
  {
   "cell_type": "code",
   "execution_count": null,
   "metadata": {},
   "outputs": [],
   "source": [
    "from huggingface_hub import hf_hub_download\n",
    "from langchain.llms.llamacpp import LlamaCpp\n",
    "from langchain_core.output_parsers import StrOutputParser\n",
    "from langchain_core.prompts import PromptTemplate"
   ]
  },
  {
   "cell_type": "code",
   "execution_count": null,
   "metadata": {},
   "outputs": [],
   "source": [
    "# download the model from HF\n",
    "model_path = hf_hub_download(\n",
    "    repo_id=\"cstr/Spaetzle-v60-7b-GGUF\",\n",
    "    filename=\"Spaetzle-v60-7b-q4-k-m.gguf\",\n",
    "    force_download=False\n",
    ")"
   ]
  },
  {
   "cell_type": "code",
   "execution_count": null,
   "metadata": {},
   "outputs": [],
   "source": [
    "# create the LLM\n",
    "llm = LlamaCpp(\n",
    "    model_path=model_path,\n",
    "    stop=[\"<|eot_id|>\"],\n",
    "    n_ctx=2048,\n",
    "    max_tokens=2048,\n",
    "    temperature=0.0\n",
    ")"
   ]
  },
  {
   "cell_type": "code",
   "execution_count": null,
   "metadata": {},
   "outputs": [],
   "source": [
    "# create the prompt\n",
    "prompt = PromptTemplate.from_template(\n",
    "    \"\"\"You are AI assitant that helps humans.\n",
    "\n",
    "### Instruction:\\n\n",
    "Tell me a short joke about {topic}\n",
    "\n",
    "###: Assistant:\\n\n",
    "\"\"\")\n",
    "output_parser = StrOutputParser()"
   ]
  },
  {
   "cell_type": "code",
   "execution_count": null,
   "metadata": {},
   "outputs": [],
   "source": [
    "# create the chain\n",
    "chain = prompt | llm | output_parser"
   ]
  },
  {
   "cell_type": "code",
   "execution_count": null,
   "metadata": {},
   "outputs": [],
   "source": [
    "# prompt the LLM\n",
    "print(chain.invoke({\"topic\": \"ice cream\"}))"
   ]
  }
 ],
 "metadata": {
  "kernelspec": {
   "display_name": "Python 3",
   "language": "python",
   "name": "python3"
  },
  "language_info": {
   "codemirror_mode": {
    "name": "ipython",
    "version": 3
   },
   "file_extension": ".py",
   "mimetype": "text/x-python",
   "name": "python",
   "nbconvert_exporter": "python",
   "pygments_lexer": "ipython3",
   "version": "3.10.12"
  }
 },
 "nbformat": 4,
 "nbformat_minor": 2
}
