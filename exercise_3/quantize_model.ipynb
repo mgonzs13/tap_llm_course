{
 "cells": [
  {
   "cell_type": "code",
   "execution_count": null,
   "metadata": {
    "vscode": {
     "languageId": "shellscript"
    }
   },
   "outputs": [],
   "source": [
    "# install llama.cpp\n",
    "!git clone https://github.com/ggerganov/llama.cpp\n",
    "!cd llama.cpp && make"
   ]
  },
  {
   "cell_type": "code",
   "execution_count": null,
   "metadata": {
    "vscode": {
     "languageId": "shellscript"
    }
   },
   "outputs": [],
   "source": [
    "# convert\n",
    "!python3 llama.cpp/convert-hf-to-gguf.py phi-2-cfr/\n",
    "!llama.cpp/quantize phi-2-cfr/ggml-model-f16.gguf phi-2-cfr/ggml-model-Q6_K.gguf Q6_K"
   ]
  },
  {
   "cell_type": "code",
   "execution_count": null,
   "metadata": {
    "vscode": {
     "languageId": "shellscript"
    }
   },
   "outputs": [],
   "source": [
    "# rename\n",
    "!mv phi-2-cfr/ggml-model-f16.gguf phi-2-cfr/phi-2-cfr-f16.gguf\n",
    "!mv phi-2-cfr/ggml-model-Q6_K.gguf phi-2-cfr/phi-2-cfr-Q6_K.gguf"
   ]
  }
 ],
 "metadata": {
  "kernelspec": {
   "display_name": "Python 3",
   "language": "python",
   "name": "python3"
  },
  "language_info": {
   "codemirror_mode": {
    "name": "ipython",
    "version": 3
   },
   "file_extension": ".py",
   "mimetype": "text/x-python",
   "name": "python",
   "nbconvert_exporter": "python",
   "pygments_lexer": "ipython3",
   "version": "3.10.12"
  }
 },
 "nbformat": 4,
 "nbformat_minor": 2
}
