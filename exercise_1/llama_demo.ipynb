{
 "cells": [
  {
   "cell_type": "code",
   "execution_count": null,
   "metadata": {},
   "outputs": [],
   "source": [
    "!pip3 install llama-cpp-python==0.2.82 huggingface_hub==0.23.4"
   ]
  },
  {
   "cell_type": "code",
   "execution_count": null,
   "metadata": {},
   "outputs": [],
   "source": [
    "from llama_cpp import Llama\n",
    "from huggingface_hub import hf_hub_download"
   ]
  },
  {
   "cell_type": "code",
   "execution_count": null,
   "metadata": {},
   "outputs": [],
   "source": [
    "# download the model from HF\n",
    "model_path = hf_hub_download(\n",
    "    repo_id=\"cstr/Spaetzle-v60-7b-GGUF\",\n",
    "    filename=\"Spaetzle-v60-7b-q4-k-m.gguf\",\n",
    "    force_download=False\n",
    ")"
   ]
  },
  {
   "cell_type": "code",
   "execution_count": null,
   "metadata": {},
   "outputs": [],
   "source": [
    "# create the LLM\n",
    "llm = Llama(\n",
    "    model_path=model_path,\n",
    "    # n_gpu_layers=-1, # Uncomment to use GPU acceleration\n",
    "    n_ctx=2048,  # Uncomment to increase the context window\n",
    ")"
   ]
  },
  {
   "cell_type": "code",
   "execution_count": null,
   "metadata": {},
   "outputs": [],
   "source": [
    "# prompt the LLM\n",
    "llm(\n",
    "    # prompt for the LLM with prefix and suffix\n",
    "    (\n",
    "        \"### Instruction:\\n\"\n",
    "        \"Name the planets in the solar system?\\n\\n\"\n",
    "\n",
    "        \"###: Assistant:\\n\"\n",
    "    ),\n",
    "    # Generate up to 2048 tokens, set to None to generate up to the end of the context window\n",
    "    max_tokens=2048,\n",
    "    # Stop generating just before the model would generate a new question\n",
    "    stop=[\"### Instruction:\\n\"],\n",
    "    temperature=0.0\n",
    ")"
   ]
  }
 ],
 "metadata": {
  "kernelspec": {
   "display_name": "Python 3",
   "language": "python",
   "name": "python3"
  },
  "language_info": {
   "codemirror_mode": {
    "name": "ipython",
    "version": 3
   },
   "file_extension": ".py",
   "mimetype": "text/x-python",
   "name": "python",
   "nbconvert_exporter": "python",
   "pygments_lexer": "ipython3",
   "version": "3.10.12"
  }
 },
 "nbformat": 4,
 "nbformat_minor": 2
}
