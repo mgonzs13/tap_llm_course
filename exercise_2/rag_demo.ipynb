{
 "cells": [
  {
   "cell_type": "code",
   "execution_count": null,
   "metadata": {},
   "outputs": [],
   "source": [
    "!pip3 install llama-cpp-python==0.2.82 huggingface_hub==0.23.4 langchain==0.1.16"
   ]
  },
  {
   "cell_type": "code",
   "execution_count": null,
   "metadata": {},
   "outputs": [],
   "source": [
    "from huggingface_hub import hf_hub_download\n",
    "from langchain.llms.llamacpp import LlamaCpp\n",
    "from langchain_core.output_parsers import StrOutputParser\n",
    "from langchain_core.prompts import PromptTemplate\n",
    "from langchain_community.embeddings import HuggingFaceBgeEmbeddings\n",
    "from langchain.vectorstores.chroma import Chroma\n",
    "from langchain_core.runnables import RunnableParallel, RunnablePassthrough"
   ]
  },
  {
   "cell_type": "code",
   "execution_count": null,
   "metadata": {},
   "outputs": [],
   "source": [
    "# download the model from HF\n",
    "model_path = hf_hub_download(\n",
    "    repo_id=\"cstr/Spaetzle-v60-7b-GGUF\",\n",
    "    filename=\"Spaetzle-v60-7b-q4-k-m.gguf\",\n",
    "    force_download=False\n",
    ")"
   ]
  },
  {
   "cell_type": "code",
   "execution_count": null,
   "metadata": {},
   "outputs": [],
   "source": [
    "# create the LLM\n",
    "llm = LlamaCpp(\n",
    "    model_path=model_path,\n",
    "    stop=[\"### Instruction:\\n\"],\n",
    "    n_ctx=2048,\n",
    "    max_tokens=2048,\n",
    "    temperature=0.0,\n",
    "    streaming=True,\n",
    "    n_batch=512\n",
    ")"
   ]
  },
  {
   "cell_type": "code",
   "execution_count": null,
   "metadata": {},
   "outputs": [],
   "source": [
    "# create the embeddings\n",
    "model_name = \"mixedbread-ai/mxbai-embed-large-v1\"\n",
    "model_kwargs = {\"device\": \"cpu\"}\n",
    "encode_kwargs = {\"normalize_embeddings\": True}\n",
    "\n",
    "embeddings_model = HuggingFaceBgeEmbeddings(\n",
    "    model_name=model_name,\n",
    "    model_kwargs=model_kwargs,\n",
    "    encode_kwargs=encode_kwargs\n",
    ")"
   ]
  },
  {
   "cell_type": "code",
   "execution_count": null,
   "metadata": {},
   "outputs": [],
   "source": [
    "# create the vector db and the retriever\n",
    "db = Chroma(embedding_function=embeddings_model)\n",
    "\n",
    "retriever = db.as_retriever()\n",
    "\n",
    "db.add_texts([\"harrison worked at kensho\",\n",
    "              \"bears like to eat honey\"])"
   ]
  },
  {
   "cell_type": "code",
   "execution_count": null,
   "metadata": {},
   "outputs": [],
   "source": [
    "# create the prompt\n",
    "template = \"\"\"You are an AI assistant with the following context: \n",
    "{context}\n",
    "\n",
    "### Instruction:\n",
    "Answer the question: {question}\n",
    "\n",
    "###: Response:\n",
    "\"\"\"\n",
    "\n",
    "prompt = PromptTemplate.from_template(template)"
   ]
  },
  {
   "cell_type": "code",
   "execution_count": null,
   "metadata": {},
   "outputs": [],
   "source": [
    "# create the chain\n",
    "output_parser = StrOutputParser()\n",
    "\n",
    "\n",
    "def format_docs(docs):\n",
    "\n",
    "    text = \"\"\n",
    "\n",
    "    for d in docs:\n",
    "        text += f\"- {d.page_content}\\n\"\n",
    "\n",
    "    return text\n",
    "\n",
    "\n",
    "setup_and_retrieval = RunnableParallel(\n",
    "    {\"context\": retriever | format_docs, \"question\": RunnablePassthrough()}\n",
    ")\n",
    "\n",
    "chain = setup_and_retrieval | prompt | llm | output_parser"
   ]
  },
  {
   "cell_type": "code",
   "execution_count": null,
   "metadata": {},
   "outputs": [],
   "source": [
    "# prompt the LLM\n",
    "print(chain.invoke(\"Where did harrison work?\"))"
   ]
  }
 ],
 "metadata": {
  "kernelspec": {
   "display_name": "Python 3",
   "language": "python",
   "name": "python3"
  },
  "language_info": {
   "codemirror_mode": {
    "name": "ipython",
    "version": 3
   },
   "file_extension": ".py",
   "mimetype": "text/x-python",
   "name": "python",
   "nbconvert_exporter": "python",
   "pygments_lexer": "ipython3",
   "version": "3.10.12"
  }
 },
 "nbformat": 4,
 "nbformat_minor": 2
}
