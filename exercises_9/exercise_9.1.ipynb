{
 "cells": [
  {
   "cell_type": "markdown",
   "metadata": {},
   "source": [
    "# Exercise: Setting Up and Running a Whisper in ROS 2\n",
    "\n",
    "This notebook demonstrates how to install dependencies, download a model from Hugging Face,\n",
    "and load it in ROS 2 using the `whisper_ros`. Follow the steps below to understand how to:\n",
    "- Install necessary dependencies.\n",
    "- Download and load SileroVAD and Whisper models file from Hugging Face.\n",
    "- Perform ASR in ROS 2.\n",
    "\n",
    "Make sure you have the required dependencies installed before running the notebook, which includes ROS 2."
   ]
  },
  {
   "cell_type": "code",
   "execution_count": null,
   "metadata": {
    "vscode": {
     "languageId": "shellscript"
    }
   },
   "outputs": [],
   "source": [
    "# Download and compile whisper_ros\n",
    "!git clone https://github.com/mgonzs13/audio_common.git\n",
    "!git clone https://github.com/mgonzs13/whisper_ros.git\n",
    "!pip3 install -r whisper_ros/requirements.txt\n",
    "!cd ~/ros2_ws\n",
    "!rosdep install --from-paths src --ignore-src -r -y\n",
    "!colcon build --cmake-args -DGGML_CUDA=ON # add this for CUDA"
   ]
  },
  {
   "cell_type": "code",
   "execution_count": null,
   "metadata": {
    "vscode": {
     "languageId": "shellscript"
    }
   },
   "outputs": [],
   "source": [
    "# Download and load a Whisper model (You must run this in a new terminal)\n",
    "!ros2 launch whisper_bringup whisper.launch.py"
   ]
  },
  {
   "cell_type": "code",
   "execution_count": null,
   "metadata": {
    "vscode": {
     "languageId": "shellscript"
    }
   },
   "outputs": [],
   "source": [
    "# Start listening (You can run this in a new terminal)\n",
    "!ros2 run whisper_demos whisper_demo_node"
   ]
  }
 ],
 "metadata": {
  "kernelspec": {
   "display_name": "Python 3",
   "language": "python",
   "name": "python3"
  },
  "language_info": {
   "codemirror_mode": {
    "name": "ipython",
    "version": 3
   },
   "file_extension": ".py",
   "mimetype": "text/x-python",
   "name": "python",
   "nbconvert_exporter": "python",
   "pygments_lexer": "ipython3",
   "version": "3.10.12"
  }
 },
 "nbformat": 4,
 "nbformat_minor": 2
}
